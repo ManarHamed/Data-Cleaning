{
 "cells": [
  {
   "cell_type": "markdown",
   "id": "09773cb1",
   "metadata": {
    "papermill": {
     "duration": 0.005236,
     "end_time": "2022-07-09T12:27:54.292542",
     "exception": false,
     "start_time": "2022-07-09T12:27:54.287306",
     "status": "completed"
    },
    "tags": []
   },
   "source": [
    "**This notebook is an exercise in the [Data Cleaning](https://www.kaggle.com/learn/data-cleaning) course.  You can reference the tutorial at [this link](https://www.kaggle.com/alexisbcook/character-encodings).**\n",
    "\n",
    "---\n"
   ]
  },
  {
   "cell_type": "markdown",
   "id": "e76ee265",
   "metadata": {
    "papermill": {
     "duration": 0.003742,
     "end_time": "2022-07-09T12:27:54.300603",
     "exception": false,
     "start_time": "2022-07-09T12:27:54.296861",
     "status": "completed"
    },
    "tags": []
   },
   "source": [
    "In this exercise, you'll apply what you learned in the **Character encodings** tutorial.\n",
    "\n",
    "# Setup\n",
    "\n",
    "The questions below will give you feedback on your work. Run the following cell to set up the feedback system."
   ]
  },
  {
   "cell_type": "code",
   "execution_count": 1,
   "id": "019e205a",
   "metadata": {
    "execution": {
     "iopub.execute_input": "2022-07-09T12:27:54.311088Z",
     "iopub.status.busy": "2022-07-09T12:27:54.310210Z",
     "iopub.status.idle": "2022-07-09T12:27:54.396361Z",
     "shell.execute_reply": "2022-07-09T12:27:54.395544Z"
    },
    "papermill": {
     "duration": 0.093908,
     "end_time": "2022-07-09T12:27:54.398754",
     "exception": false,
     "start_time": "2022-07-09T12:27:54.304846",
     "status": "completed"
    },
    "tags": []
   },
   "outputs": [
    {
     "name": "stdout",
     "output_type": "stream",
     "text": [
      "Setup Complete\n"
     ]
    }
   ],
   "source": [
    "from learntools.core import binder\n",
    "binder.bind(globals())\n",
    "from learntools.data_cleaning.ex4 import *\n",
    "print(\"Setup Complete\")"
   ]
  },
  {
   "cell_type": "markdown",
   "id": "00ecacdf",
   "metadata": {
    "papermill": {
     "duration": 0.003948,
     "end_time": "2022-07-09T12:27:54.407093",
     "exception": false,
     "start_time": "2022-07-09T12:27:54.403145",
     "status": "completed"
    },
    "tags": []
   },
   "source": [
    "# Get our environment set up\n",
    "\n",
    "The first thing we'll need to do is load in the libraries we'll be using."
   ]
  },
  {
   "cell_type": "code",
   "execution_count": 2,
   "id": "9f336153",
   "metadata": {
    "execution": {
     "iopub.execute_input": "2022-07-09T12:27:54.417252Z",
     "iopub.status.busy": "2022-07-09T12:27:54.416317Z",
     "iopub.status.idle": "2022-07-09T12:27:54.421296Z",
     "shell.execute_reply": "2022-07-09T12:27:54.420540Z"
    },
    "papermill": {
     "duration": 0.012052,
     "end_time": "2022-07-09T12:27:54.423154",
     "exception": false,
     "start_time": "2022-07-09T12:27:54.411102",
     "status": "completed"
    },
    "tags": []
   },
   "outputs": [],
   "source": [
    "# modules we'll use\n",
    "import pandas as pd\n",
    "import numpy as np\n",
    "\n",
    "# helpful character encoding module\n",
    "import chardet\n",
    "\n",
    "# set seed for reproducibility\n",
    "np.random.seed(0)"
   ]
  },
  {
   "cell_type": "markdown",
   "id": "9ec09fab",
   "metadata": {
    "papermill": {
     "duration": 0.003634,
     "end_time": "2022-07-09T12:27:54.430716",
     "exception": false,
     "start_time": "2022-07-09T12:27:54.427082",
     "status": "completed"
    },
    "tags": []
   },
   "source": [
    "# 1) What are encodings?\n",
    "\n",
    "You're working with a dataset composed of bytes.  Run the code cell below to print a sample entry."
   ]
  },
  {
   "cell_type": "code",
   "execution_count": 3,
   "id": "9c44be73",
   "metadata": {
    "execution": {
     "iopub.execute_input": "2022-07-09T12:27:54.440221Z",
     "iopub.status.busy": "2022-07-09T12:27:54.439553Z",
     "iopub.status.idle": "2022-07-09T12:27:54.444951Z",
     "shell.execute_reply": "2022-07-09T12:27:54.443756Z"
    },
    "papermill": {
     "duration": 0.012392,
     "end_time": "2022-07-09T12:27:54.446841",
     "exception": false,
     "start_time": "2022-07-09T12:27:54.434449",
     "status": "completed"
    },
    "tags": []
   },
   "outputs": [
    {
     "name": "stdout",
     "output_type": "stream",
     "text": [
      "b'\\xa7A\\xa6n'\n",
      "data type: <class 'bytes'>\n"
     ]
    }
   ],
   "source": [
    "sample_entry = b'\\xa7A\\xa6n'\n",
    "print(sample_entry)\n",
    "print('data type:', type(sample_entry))"
   ]
  },
  {
   "cell_type": "markdown",
   "id": "c4ba2ba0",
   "metadata": {
    "papermill": {
     "duration": 0.003806,
     "end_time": "2022-07-09T12:27:54.454757",
     "exception": false,
     "start_time": "2022-07-09T12:27:54.450951",
     "status": "completed"
    },
    "tags": []
   },
   "source": [
    "You notice that it doesn't use the standard UTF-8 encoding. \n",
    "\n",
    "Use the next code cell to create a variable `new_entry` that changes the encoding from `\"big5-tw\"` to `\"utf-8\"`.  `new_entry` should have the bytes datatype."
   ]
  },
  {
   "cell_type": "code",
   "execution_count": 4,
   "id": "ff6b74b4",
   "metadata": {
    "execution": {
     "iopub.execute_input": "2022-07-09T12:27:54.464473Z",
     "iopub.status.busy": "2022-07-09T12:27:54.463738Z",
     "iopub.status.idle": "2022-07-09T12:27:54.473968Z",
     "shell.execute_reply": "2022-07-09T12:27:54.472912Z"
    },
    "papermill": {
     "duration": 0.017248,
     "end_time": "2022-07-09T12:27:54.475963",
     "exception": false,
     "start_time": "2022-07-09T12:27:54.458715",
     "status": "completed"
    },
    "tags": []
   },
   "outputs": [
    {
     "data": {
      "application/javascript": [
       "parent.postMessage({\"jupyterEvent\": \"custom.exercise_interaction\", \"data\": {\"outcomeType\": 1, \"valueTowardsCompletion\": 0.3333333333333333, \"interactionType\": 1, \"questionType\": 1, \"questionId\": \"1_EncodingsIntro\", \"learnToolsVersion\": \"0.3.4\", \"failureMessage\": \"\", \"exceptionClass\": \"\", \"trace\": \"\"}}, \"*\")"
      ],
      "text/plain": [
       "<IPython.core.display.Javascript object>"
      ]
     },
     "metadata": {},
     "output_type": "display_data"
    },
    {
     "data": {
      "text/markdown": [
       "<span style=\"color:#33cc33\">Correct</span>"
      ],
      "text/plain": [
       "Correct"
      ]
     },
     "metadata": {},
     "output_type": "display_data"
    }
   ],
   "source": [
    "before = sample_entry.decode(\"big5-tw\")\n",
    "new_entry = before.encode()\n",
    "\n",
    "# Check your answer\n",
    "q1.check()"
   ]
  },
  {
   "cell_type": "code",
   "execution_count": 5,
   "id": "5ffbd03b",
   "metadata": {
    "execution": {
     "iopub.execute_input": "2022-07-09T12:27:54.485865Z",
     "iopub.status.busy": "2022-07-09T12:27:54.485485Z",
     "iopub.status.idle": "2022-07-09T12:27:54.497286Z",
     "shell.execute_reply": "2022-07-09T12:27:54.496472Z"
    },
    "papermill": {
     "duration": 0.01917,
     "end_time": "2022-07-09T12:27:54.499256",
     "exception": false,
     "start_time": "2022-07-09T12:27:54.480086",
     "status": "completed"
    },
    "tags": []
   },
   "outputs": [
    {
     "data": {
      "application/javascript": [
       "parent.postMessage({\"jupyterEvent\": \"custom.exercise_interaction\", \"data\": {\"interactionType\": 2, \"questionType\": 1, \"questionId\": \"1_EncodingsIntro\", \"learnToolsVersion\": \"0.3.4\", \"valueTowardsCompletion\": 0.0, \"failureMessage\": \"\", \"exceptionClass\": \"\", \"trace\": \"\", \"outcomeType\": 4}}, \"*\")"
      ],
      "text/plain": [
       "<IPython.core.display.Javascript object>"
      ]
     },
     "metadata": {},
     "output_type": "display_data"
    },
    {
     "data": {
      "text/markdown": [
       "<span style=\"color:#3366cc\">Hint:</span> Try using `.decode()` to get the string, then `.encode()` to get the bytes representation, encoded in UTF-8."
      ],
      "text/plain": [
       "Hint: Try using `.decode()` to get the string, then `.encode()` to get the bytes representation, encoded in UTF-8."
      ]
     },
     "metadata": {},
     "output_type": "display_data"
    },
    {
     "data": {
      "application/javascript": [
       "parent.postMessage({\"jupyterEvent\": \"custom.exercise_interaction\", \"data\": {\"interactionType\": 3, \"questionType\": 1, \"questionId\": \"1_EncodingsIntro\", \"learnToolsVersion\": \"0.3.4\", \"valueTowardsCompletion\": 0.0, \"failureMessage\": \"\", \"exceptionClass\": \"\", \"trace\": \"\", \"outcomeType\": 4}}, \"*\")"
      ],
      "text/plain": [
       "<IPython.core.display.Javascript object>"
      ]
     },
     "metadata": {},
     "output_type": "display_data"
    },
    {
     "data": {
      "text/markdown": [
       "<span style=\"color:#33cc99\">Solution:</span> \n",
       "```python\n",
       "before = sample_entry.decode(\"big5-tw\")\n",
       "new_entry = before.encode()\n",
       "\n",
       "```"
      ],
      "text/plain": [
       "Solution: \n",
       "```python\n",
       "before = sample_entry.decode(\"big5-tw\")\n",
       "new_entry = before.encode()\n",
       "\n",
       "```"
      ]
     },
     "metadata": {},
     "output_type": "display_data"
    }
   ],
   "source": [
    "# Lines below will give you a hint or solution code\n",
    "q1.hint()\n",
    "q1.solution()"
   ]
  },
  {
   "cell_type": "markdown",
   "id": "83b7e44b",
   "metadata": {
    "papermill": {
     "duration": 0.004138,
     "end_time": "2022-07-09T12:27:54.507823",
     "exception": false,
     "start_time": "2022-07-09T12:27:54.503685",
     "status": "completed"
    },
    "tags": []
   },
   "source": [
    "# 2) Reading in files with encoding problems\n",
    "\n",
    "Use the code cell below to read in this file at path `\"../input/fatal-police-shootings-in-the-us/PoliceKillingsUS.csv\"`.  \n",
    "\n",
    "Figure out what the correct encoding should be and read in the file to a DataFrame `police_killings`."
   ]
  },
  {
   "cell_type": "code",
   "execution_count": 6,
   "id": "e80f9d92",
   "metadata": {
    "execution": {
     "iopub.execute_input": "2022-07-09T12:27:54.518531Z",
     "iopub.status.busy": "2022-07-09T12:27:54.517776Z",
     "iopub.status.idle": "2022-07-09T12:27:54.543297Z",
     "shell.execute_reply": "2022-07-09T12:27:54.542424Z"
    },
    "papermill": {
     "duration": 0.033361,
     "end_time": "2022-07-09T12:27:54.545502",
     "exception": false,
     "start_time": "2022-07-09T12:27:54.512141",
     "status": "completed"
    },
    "tags": []
   },
   "outputs": [
    {
     "data": {
      "application/javascript": [
       "parent.postMessage({\"jupyterEvent\": \"custom.exercise_interaction\", \"data\": {\"outcomeType\": 1, \"valueTowardsCompletion\": 0.3333333333333333, \"interactionType\": 1, \"questionType\": 1, \"questionId\": \"2_ReadIn\", \"learnToolsVersion\": \"0.3.4\", \"failureMessage\": \"\", \"exceptionClass\": \"\", \"trace\": \"\"}}, \"*\")"
      ],
      "text/plain": [
       "<IPython.core.display.Javascript object>"
      ]
     },
     "metadata": {},
     "output_type": "display_data"
    },
    {
     "data": {
      "text/markdown": [
       "<span style=\"color:#33cc33\">Correct</span>"
      ],
      "text/plain": [
       "Correct"
      ]
     },
     "metadata": {},
     "output_type": "display_data"
    }
   ],
   "source": [
    "# TODO: Load in the DataFrame correctly.\n",
    "police_killings = pd.read_csv(\"../input/fatal-police-shootings-in-the-us/PoliceKillingsUS.csv\",  encoding='Windows-1252')\n",
    "\n",
    "# Check your answer\n",
    "q2.check()"
   ]
  },
  {
   "cell_type": "markdown",
   "id": "eb2c678b",
   "metadata": {
    "papermill": {
     "duration": 0.004609,
     "end_time": "2022-07-09T12:27:54.554913",
     "exception": false,
     "start_time": "2022-07-09T12:27:54.550304",
     "status": "completed"
    },
    "tags": []
   },
   "source": [
    "Feel free to use any additional code cells for supplemental work.  To get credit for finishing this question, you'll need to run `q2.check()` and get a result of **Correct**."
   ]
  },
  {
   "cell_type": "code",
   "execution_count": 7,
   "id": "891f455f",
   "metadata": {
    "execution": {
     "iopub.execute_input": "2022-07-09T12:27:54.567138Z",
     "iopub.status.busy": "2022-07-09T12:27:54.566375Z",
     "iopub.status.idle": "2022-07-09T12:27:54.571225Z",
     "shell.execute_reply": "2022-07-09T12:27:54.570469Z"
    },
    "papermill": {
     "duration": 0.013481,
     "end_time": "2022-07-09T12:27:54.573328",
     "exception": false,
     "start_time": "2022-07-09T12:27:54.559847",
     "status": "completed"
    },
    "tags": []
   },
   "outputs": [],
   "source": [
    "# (Optional) Use this code cell for any additional work."
   ]
  },
  {
   "cell_type": "code",
   "execution_count": 8,
   "id": "8e9c384f",
   "metadata": {
    "execution": {
     "iopub.execute_input": "2022-07-09T12:27:54.584656Z",
     "iopub.status.busy": "2022-07-09T12:27:54.584229Z",
     "iopub.status.idle": "2022-07-09T12:27:54.594922Z",
     "shell.execute_reply": "2022-07-09T12:27:54.593993Z"
    },
    "papermill": {
     "duration": 0.018969,
     "end_time": "2022-07-09T12:27:54.596973",
     "exception": false,
     "start_time": "2022-07-09T12:27:54.578004",
     "status": "completed"
    },
    "tags": []
   },
   "outputs": [
    {
     "data": {
      "application/javascript": [
       "parent.postMessage({\"jupyterEvent\": \"custom.exercise_interaction\", \"data\": {\"interactionType\": 2, \"questionType\": 1, \"questionId\": \"2_ReadIn\", \"learnToolsVersion\": \"0.3.4\", \"valueTowardsCompletion\": 0.0, \"failureMessage\": \"\", \"exceptionClass\": \"\", \"trace\": \"\", \"outcomeType\": 4}}, \"*\")"
      ],
      "text/plain": [
       "<IPython.core.display.Javascript object>"
      ]
     },
     "metadata": {},
     "output_type": "display_data"
    },
    {
     "data": {
      "text/markdown": [
       "<span style=\"color:#3366cc\">Hint:</span> If you try to guess the encoding with the first 10,000 bytes of the file, it might give you the wrong answer.  Try using 100,000 or more lines of the file."
      ],
      "text/plain": [
       "Hint: If you try to guess the encoding with the first 10,000 bytes of the file, it might give you the wrong answer.  Try using 100,000 or more lines of the file."
      ]
     },
     "metadata": {},
     "output_type": "display_data"
    },
    {
     "data": {
      "application/javascript": [
       "parent.postMessage({\"jupyterEvent\": \"custom.exercise_interaction\", \"data\": {\"interactionType\": 3, \"questionType\": 1, \"questionId\": \"2_ReadIn\", \"learnToolsVersion\": \"0.3.4\", \"valueTowardsCompletion\": 0.0, \"failureMessage\": \"\", \"exceptionClass\": \"\", \"trace\": \"\", \"outcomeType\": 4}}, \"*\")"
      ],
      "text/plain": [
       "<IPython.core.display.Javascript object>"
      ]
     },
     "metadata": {},
     "output_type": "display_data"
    },
    {
     "data": {
      "text/markdown": [
       "<span style=\"color:#33cc99\">Solution:</span> \n",
       "```python\n",
       "police_killings = pd.read_csv(\"../input/fatal-police-shootings-in-the-us/PoliceKillingsUS.csv\", encoding='Windows-1252')\n",
       "\n",
       "```"
      ],
      "text/plain": [
       "Solution: \n",
       "```python\n",
       "police_killings = pd.read_csv(\"../input/fatal-police-shootings-in-the-us/PoliceKillingsUS.csv\", encoding='Windows-1252')\n",
       "\n",
       "```"
      ]
     },
     "metadata": {},
     "output_type": "display_data"
    }
   ],
   "source": [
    "# Lines below will give you a hint or solution code\n",
    "q2.hint()\n",
    "q2.solution()"
   ]
  },
  {
   "cell_type": "markdown",
   "id": "accd204d",
   "metadata": {
    "papermill": {
     "duration": 0.004934,
     "end_time": "2022-07-09T12:27:54.607158",
     "exception": false,
     "start_time": "2022-07-09T12:27:54.602224",
     "status": "completed"
    },
    "tags": []
   },
   "source": [
    "# 3) Saving your files with UTF-8 encoding\n",
    "\n",
    "Save a version of the police killings dataset to CSV with UTF-8 encoding.  Your answer will be marked correct after saving this file.  \n",
    "\n",
    "Note: When using the `to_csv()` method, supply only the name of the file (e.g., `\"my_file.csv\"`).  This saves the file at the filepath `\"/kaggle/working/my_file.csv\"`."
   ]
  },
  {
   "cell_type": "code",
   "execution_count": 9,
   "id": "5b9ea182",
   "metadata": {
    "execution": {
     "iopub.execute_input": "2022-07-09T12:27:54.619645Z",
     "iopub.status.busy": "2022-07-09T12:27:54.618974Z",
     "iopub.status.idle": "2022-07-09T12:27:54.649902Z",
     "shell.execute_reply": "2022-07-09T12:27:54.649042Z"
    },
    "papermill": {
     "duration": 0.039606,
     "end_time": "2022-07-09T12:27:54.651971",
     "exception": false,
     "start_time": "2022-07-09T12:27:54.612365",
     "status": "completed"
    },
    "tags": []
   },
   "outputs": [
    {
     "data": {
      "application/javascript": [
       "parent.postMessage({\"jupyterEvent\": \"custom.exercise_interaction\", \"data\": {\"outcomeType\": 1, \"valueTowardsCompletion\": 0.3333333333333333, \"interactionType\": 1, \"questionType\": 2, \"questionId\": \"3_SaveCSV\", \"learnToolsVersion\": \"0.3.4\", \"failureMessage\": \"\", \"exceptionClass\": \"\", \"trace\": \"\"}}, \"*\")"
      ],
      "text/plain": [
       "<IPython.core.display.Javascript object>"
      ]
     },
     "metadata": {},
     "output_type": "display_data"
    },
    {
     "data": {
      "text/markdown": [
       "<span style=\"color:#33cc33\">Correct</span>"
      ],
      "text/plain": [
       "Correct"
      ]
     },
     "metadata": {},
     "output_type": "display_data"
    }
   ],
   "source": [
    "police_killings.to_csv(\"/kaggle/working/my_file.csv\")\n",
    "q3.check()\n",
    "\n"
   ]
  },
  {
   "cell_type": "code",
   "execution_count": 10,
   "id": "7f0f026f",
   "metadata": {
    "execution": {
     "iopub.execute_input": "2022-07-09T12:27:54.663915Z",
     "iopub.status.busy": "2022-07-09T12:27:54.663525Z",
     "iopub.status.idle": "2022-07-09T12:27:54.673015Z",
     "shell.execute_reply": "2022-07-09T12:27:54.672268Z"
    },
    "papermill": {
     "duration": 0.017524,
     "end_time": "2022-07-09T12:27:54.674855",
     "exception": false,
     "start_time": "2022-07-09T12:27:54.657331",
     "status": "completed"
    },
    "tags": []
   },
   "outputs": [
    {
     "data": {
      "application/javascript": [
       "parent.postMessage({\"jupyterEvent\": \"custom.exercise_interaction\", \"data\": {\"interactionType\": 2, \"questionType\": 2, \"questionId\": \"3_SaveCSV\", \"learnToolsVersion\": \"0.3.4\", \"valueTowardsCompletion\": 0.0, \"failureMessage\": \"\", \"exceptionClass\": \"\", \"trace\": \"\", \"outcomeType\": 4}}, \"*\")"
      ],
      "text/plain": [
       "<IPython.core.display.Javascript object>"
      ]
     },
     "metadata": {},
     "output_type": "display_data"
    },
    {
     "data": {
      "text/markdown": [
       "<span style=\"color:#3366cc\">Hint:</span> Use `.to_csv().`"
      ],
      "text/plain": [
       "Hint: Use `.to_csv().`"
      ]
     },
     "metadata": {},
     "output_type": "display_data"
    },
    {
     "data": {
      "application/javascript": [
       "parent.postMessage({\"jupyterEvent\": \"custom.exercise_interaction\", \"data\": {\"interactionType\": 3, \"questionType\": 2, \"questionId\": \"3_SaveCSV\", \"learnToolsVersion\": \"0.3.4\", \"valueTowardsCompletion\": 0.0, \"failureMessage\": \"\", \"exceptionClass\": \"\", \"trace\": \"\", \"outcomeType\": 4}}, \"*\")"
      ],
      "text/plain": [
       "<IPython.core.display.Javascript object>"
      ]
     },
     "metadata": {},
     "output_type": "display_data"
    },
    {
     "data": {
      "text/markdown": [
       "<span style=\"color:#33cc99\">Solution:</span> \n",
       "```python\n",
       "\n",
       "police_killings.to_csv(\"my_file.csv\")\n",
       "\n",
       "```"
      ],
      "text/plain": [
       "Solution: \n",
       "```python\n",
       "\n",
       "police_killings.to_csv(\"my_file.csv\")\n",
       "\n",
       "```"
      ]
     },
     "metadata": {},
     "output_type": "display_data"
    }
   ],
   "source": [
    "# Lines below will give you a hint or solution code\n",
    "q3.hint()\n",
    "q3.solution()"
   ]
  },
  {
   "cell_type": "markdown",
   "id": "77f075ff",
   "metadata": {
    "papermill": {
     "duration": 0.005346,
     "end_time": "2022-07-09T12:27:54.685935",
     "exception": false,
     "start_time": "2022-07-09T12:27:54.680589",
     "status": "completed"
    },
    "tags": []
   },
   "source": [
    "# (Optional) More practice\n",
    "\n",
    "Check out [this dataset of files in different character encodings](https://www.kaggle.com/rtatman/character-encoding-examples). Can you read in all the files with their original encodings and them save them out as UTF-8 files?\n",
    "\n",
    "If you have a file that's in UTF-8 but has just a couple of weird-looking characters in it, you can try out the [ftfy module](https://ftfy.readthedocs.io/en/latest/#) and see if it helps. \n",
    "\n",
    "# Keep going\n",
    "\n",
    "In the final lesson, learn how to [**clean up inconsistent text entries**](https://www.kaggle.com/alexisbcook/inconsistent-data-entry) in your dataset."
   ]
  },
  {
   "cell_type": "markdown",
   "id": "1c6c9fc9",
   "metadata": {
    "papermill": {
     "duration": 0.005286,
     "end_time": "2022-07-09T12:27:54.696785",
     "exception": false,
     "start_time": "2022-07-09T12:27:54.691499",
     "status": "completed"
    },
    "tags": []
   },
   "source": [
    "---\n",
    "\n",
    "\n",
    "\n",
    "\n",
    "*Have questions or comments? Visit the [course discussion forum](https://www.kaggle.com/learn/data-cleaning/discussion) to chat with other learners.*"
   ]
  }
 ],
 "metadata": {
  "kernelspec": {
   "display_name": "Python 3",
   "language": "python",
   "name": "python3"
  },
  "language_info": {
   "codemirror_mode": {
    "name": "ipython",
    "version": 3
   },
   "file_extension": ".py",
   "mimetype": "text/x-python",
   "name": "python",
   "nbconvert_exporter": "python",
   "pygments_lexer": "ipython3",
   "version": "3.7.12"
  },
  "papermill": {
   "default_parameters": {},
   "duration": 9.903674,
   "end_time": "2022-07-09T12:27:55.324148",
   "environment_variables": {},
   "exception": null,
   "input_path": "__notebook__.ipynb",
   "output_path": "__notebook__.ipynb",
   "parameters": {},
   "start_time": "2022-07-09T12:27:45.420474",
   "version": "2.3.4"
  }
 },
 "nbformat": 4,
 "nbformat_minor": 5
}
