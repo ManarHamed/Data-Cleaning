{
 "cells": [
  {
   "cell_type": "markdown",
   "id": "a97c0ed3",
   "metadata": {
    "papermill": {
     "duration": 0.007988,
     "end_time": "2022-07-09T12:28:04.657205",
     "exception": false,
     "start_time": "2022-07-09T12:28:04.649217",
     "status": "completed"
    },
    "tags": []
   },
   "source": [
    "**This notebook is an exercise in the [Data Cleaning](https://www.kaggle.com/learn/data-cleaning) course.  You can reference the tutorial at [this link](https://www.kaggle.com/alexisbcook/inconsistent-data-entry).**\n",
    "\n",
    "---\n"
   ]
  },
  {
   "cell_type": "markdown",
   "id": "10f097e1",
   "metadata": {
    "papermill": {
     "duration": 0.006326,
     "end_time": "2022-07-09T12:28:04.670392",
     "exception": false,
     "start_time": "2022-07-09T12:28:04.664066",
     "status": "completed"
    },
    "tags": []
   },
   "source": [
    "In this exercise, you'll apply what you learned in the **Inconsistent data entry** tutorial.\n",
    "\n",
    "# Setup\n",
    "\n",
    "The questions below will give you feedback on your work. Run the following cell to set up the feedback system."
   ]
  },
  {
   "cell_type": "code",
   "execution_count": 1,
   "id": "ce543a5b",
   "metadata": {
    "execution": {
     "iopub.execute_input": "2022-07-09T12:28:04.687014Z",
     "iopub.status.busy": "2022-07-09T12:28:04.686317Z",
     "iopub.status.idle": "2022-07-09T12:28:04.812266Z",
     "shell.execute_reply": "2022-07-09T12:28:04.811142Z"
    },
    "papermill": {
     "duration": 0.138049,
     "end_time": "2022-07-09T12:28:04.815176",
     "exception": false,
     "start_time": "2022-07-09T12:28:04.677127",
     "status": "completed"
    },
    "tags": []
   },
   "outputs": [
    {
     "name": "stdout",
     "output_type": "stream",
     "text": [
      "Setup Complete\n"
     ]
    }
   ],
   "source": [
    "from learntools.core import binder\n",
    "binder.bind(globals())\n",
    "from learntools.data_cleaning.ex5 import *\n",
    "print(\"Setup Complete\")"
   ]
  },
  {
   "cell_type": "markdown",
   "id": "baa56b27",
   "metadata": {
    "papermill": {
     "duration": 0.006581,
     "end_time": "2022-07-09T12:28:04.829022",
     "exception": false,
     "start_time": "2022-07-09T12:28:04.822441",
     "status": "completed"
    },
    "tags": []
   },
   "source": [
    "# Get our environment set up\n",
    "\n",
    "The first thing we'll need to do is load in the libraries and dataset we'll be using.  We use the same dataset from the tutorial."
   ]
  },
  {
   "cell_type": "code",
   "execution_count": 2,
   "id": "35394d52",
   "metadata": {
    "execution": {
     "iopub.execute_input": "2022-07-09T12:28:04.844633Z",
     "iopub.status.busy": "2022-07-09T12:28:04.844154Z",
     "iopub.status.idle": "2022-07-09T12:28:04.864261Z",
     "shell.execute_reply": "2022-07-09T12:28:04.863032Z"
    },
    "papermill": {
     "duration": 0.031752,
     "end_time": "2022-07-09T12:28:04.867592",
     "exception": false,
     "start_time": "2022-07-09T12:28:04.835840",
     "status": "completed"
    },
    "tags": []
   },
   "outputs": [],
   "source": [
    "# modules we'll use\n",
    "import pandas as pd\n",
    "import numpy as np\n",
    "\n",
    "# helpful modules\n",
    "import fuzzywuzzy\n",
    "from fuzzywuzzy import process\n",
    "import chardet\n",
    "\n",
    "# read in all our data\n",
    "professors = pd.read_csv(\"../input/pakistan-intellectual-capital/pakistan_intellectual_capital.csv\")\n",
    "\n",
    "# set seed for reproducibility\n",
    "np.random.seed(0)"
   ]
  },
  {
   "cell_type": "markdown",
   "id": "252c9ee4",
   "metadata": {
    "papermill": {
     "duration": 0.006609,
     "end_time": "2022-07-09T12:28:04.881226",
     "exception": false,
     "start_time": "2022-07-09T12:28:04.874617",
     "status": "completed"
    },
    "tags": []
   },
   "source": [
    "Next, we'll redo all of the work that we did in the tutorial."
   ]
  },
  {
   "cell_type": "code",
   "execution_count": 3,
   "id": "37467a39",
   "metadata": {
    "execution": {
     "iopub.execute_input": "2022-07-09T12:28:04.897550Z",
     "iopub.status.busy": "2022-07-09T12:28:04.897087Z",
     "iopub.status.idle": "2022-07-09T12:28:04.916460Z",
     "shell.execute_reply": "2022-07-09T12:28:04.915056Z"
    },
    "papermill": {
     "duration": 0.030869,
     "end_time": "2022-07-09T12:28:04.919063",
     "exception": false,
     "start_time": "2022-07-09T12:28:04.888194",
     "status": "completed"
    },
    "tags": []
   },
   "outputs": [
    {
     "name": "stdout",
     "output_type": "stream",
     "text": [
      "All done!\n"
     ]
    }
   ],
   "source": [
    "# convert to lower case\n",
    "professors['Country'] = professors['Country'].str.lower()\n",
    "# remove trailing white spaces\n",
    "professors['Country'] = professors['Country'].str.strip()\n",
    "\n",
    "# get the top 10 closest matches to \"south korea\"\n",
    "countries = professors['Country'].unique()\n",
    "matches = fuzzywuzzy.process.extract(\"south korea\", countries, limit=10, scorer=fuzzywuzzy.fuzz.token_sort_ratio)\n",
    "\n",
    "def replace_matches_in_column(df, column, string_to_match, min_ratio = 47):\n",
    "    # get a list of unique strings\n",
    "    strings = df[column].unique()\n",
    "    \n",
    "    # get the top 10 closest matches to our input string\n",
    "    matches = fuzzywuzzy.process.extract(string_to_match, strings, \n",
    "                                         limit=10, scorer=fuzzywuzzy.fuzz.token_sort_ratio)\n",
    "\n",
    "    # only get matches with a ratio > 90\n",
    "    close_matches = [matches[0] for matches in matches if matches[1] >= min_ratio]\n",
    "\n",
    "    # get the rows of all the close matches in our dataframe\n",
    "    rows_with_matches = df[column].isin(close_matches)\n",
    "\n",
    "    # replace all rows with close matches with the input matches \n",
    "    df.loc[rows_with_matches, column] = string_to_match\n",
    "    \n",
    "    # let us know the function's done\n",
    "    print(\"All done!\")\n",
    "    \n",
    "replace_matches_in_column(df=professors, column='Country', string_to_match=\"south korea\")\n",
    "countries = professors['Country'].unique()"
   ]
  },
  {
   "cell_type": "markdown",
   "id": "27c445b9",
   "metadata": {
    "papermill": {
     "duration": 0.006802,
     "end_time": "2022-07-09T12:28:04.933357",
     "exception": false,
     "start_time": "2022-07-09T12:28:04.926555",
     "status": "completed"
    },
    "tags": []
   },
   "source": [
    "# 1) Examine another column\n",
    "\n",
    "Write code below to take a look at all the unique values in the \"Graduated from\" column."
   ]
  },
  {
   "cell_type": "code",
   "execution_count": 4,
   "id": "436c5ca0",
   "metadata": {
    "execution": {
     "iopub.execute_input": "2022-07-09T12:28:04.949483Z",
     "iopub.status.busy": "2022-07-09T12:28:04.949005Z",
     "iopub.status.idle": "2022-07-09T12:28:04.955373Z",
     "shell.execute_reply": "2022-07-09T12:28:04.954012Z"
    },
    "papermill": {
     "duration": 0.017881,
     "end_time": "2022-07-09T12:28:04.958227",
     "exception": false,
     "start_time": "2022-07-09T12:28:04.940346",
     "status": "completed"
    },
    "tags": []
   },
   "outputs": [],
   "source": [
    "# TODO: Your code here\n",
    "\n",
    "# get the top 10 closest matches to \"south korea\"\n",
    "\n",
    "unis = professors['Graduated from'].unique()"
   ]
  },
  {
   "cell_type": "markdown",
   "id": "0293da37",
   "metadata": {
    "papermill": {
     "duration": 0.006632,
     "end_time": "2022-07-09T12:28:04.971996",
     "exception": false,
     "start_time": "2022-07-09T12:28:04.965364",
     "status": "completed"
    },
    "tags": []
   },
   "source": [
    "Do you notice any inconsistencies in the data?  Can any of the inconsistencies in the data be fixed by removing white spaces at the beginning and end of cells?\n",
    "\n",
    "Once you have answered these questions, run the code cell below to get credit for your work."
   ]
  },
  {
   "cell_type": "code",
   "execution_count": 5,
   "id": "ad20979a",
   "metadata": {
    "execution": {
     "iopub.execute_input": "2022-07-09T12:28:04.987968Z",
     "iopub.status.busy": "2022-07-09T12:28:04.987447Z",
     "iopub.status.idle": "2022-07-09T12:28:05.000146Z",
     "shell.execute_reply": "2022-07-09T12:28:04.998887Z"
    },
    "papermill": {
     "duration": 0.023955,
     "end_time": "2022-07-09T12:28:05.002844",
     "exception": false,
     "start_time": "2022-07-09T12:28:04.978889",
     "status": "completed"
    },
    "tags": []
   },
   "outputs": [
    {
     "data": {
      "application/javascript": [
       "parent.postMessage({\"jupyterEvent\": \"custom.exercise_interaction\", \"data\": {\"outcomeType\": 1, \"valueTowardsCompletion\": 0.3333333333333333, \"interactionType\": 1, \"questionType\": 4, \"questionId\": \"1_ExamineProvince\", \"learnToolsVersion\": \"0.3.4\", \"failureMessage\": \"\", \"exceptionClass\": \"\", \"trace\": \"\"}}, \"*\")"
      ],
      "text/plain": [
       "<IPython.core.display.Javascript object>"
      ]
     },
     "metadata": {},
     "output_type": "display_data"
    },
    {
     "data": {
      "text/markdown": [
       "<span style=\"color:#33cc33\">Correct:</span> \n",
       "\n",
       "There are inconsistencies that can be fixed by removing white spaces at the beginning and end of cells.  For instance, \"University of Central Florida\" and \" University of Central Florida\" both appear in the column."
      ],
      "text/plain": [
       "Correct: \n",
       "\n",
       "There are inconsistencies that can be fixed by removing white spaces at the beginning and end of cells.  For instance, \"University of Central Florida\" and \" University of Central Florida\" both appear in the column."
      ]
     },
     "metadata": {},
     "output_type": "display_data"
    }
   ],
   "source": [
    "# Check your answer (Run this code cell to receive credit!)\n",
    "q1.check()"
   ]
  },
  {
   "cell_type": "code",
   "execution_count": 6,
   "id": "0b66df7c",
   "metadata": {
    "execution": {
     "iopub.execute_input": "2022-07-09T12:28:05.019863Z",
     "iopub.status.busy": "2022-07-09T12:28:05.019412Z",
     "iopub.status.idle": "2022-07-09T12:28:05.029354Z",
     "shell.execute_reply": "2022-07-09T12:28:05.028220Z"
    },
    "papermill": {
     "duration": 0.02158,
     "end_time": "2022-07-09T12:28:05.031925",
     "exception": false,
     "start_time": "2022-07-09T12:28:05.010345",
     "status": "completed"
    },
    "tags": []
   },
   "outputs": [
    {
     "data": {
      "application/javascript": [
       "parent.postMessage({\"jupyterEvent\": \"custom.exercise_interaction\", \"data\": {\"interactionType\": 2, \"questionType\": 4, \"questionId\": \"1_ExamineProvince\", \"learnToolsVersion\": \"0.3.4\", \"valueTowardsCompletion\": 0.0, \"failureMessage\": \"\", \"exceptionClass\": \"\", \"trace\": \"\", \"outcomeType\": 4}}, \"*\")"
      ],
      "text/plain": [
       "<IPython.core.display.Javascript object>"
      ]
     },
     "metadata": {},
     "output_type": "display_data"
    },
    {
     "data": {
      "text/markdown": [
       "<span style=\"color:#3366cc\">Hint:</span> Use `unis = professors['Graduated from'].unique()` to take a look at the unique values in the 'Graduated from' column. You may find it useful to sort the data before printing it."
      ],
      "text/plain": [
       "Hint: Use `unis = professors['Graduated from'].unique()` to take a look at the unique values in the 'Graduated from' column. You may find it useful to sort the data before printing it."
      ]
     },
     "metadata": {},
     "output_type": "display_data"
    }
   ],
   "source": [
    "# Line below will give you a hint\n",
    "q1.hint()"
   ]
  },
  {
   "cell_type": "markdown",
   "id": "d4841388",
   "metadata": {
    "papermill": {
     "duration": 0.007277,
     "end_time": "2022-07-09T12:28:05.046926",
     "exception": false,
     "start_time": "2022-07-09T12:28:05.039649",
     "status": "completed"
    },
    "tags": []
   },
   "source": [
    "# 2) Do some text pre-processing\n",
    "\n",
    "Convert every entry in the \"Graduated from\" column in the `professors` DataFrame to remove white spaces at the beginning and end of cells."
   ]
  },
  {
   "cell_type": "code",
   "execution_count": 7,
   "id": "735f8c42",
   "metadata": {
    "execution": {
     "iopub.execute_input": "2022-07-09T12:28:05.063725Z",
     "iopub.status.busy": "2022-07-09T12:28:05.063266Z",
     "iopub.status.idle": "2022-07-09T12:28:05.080074Z",
     "shell.execute_reply": "2022-07-09T12:28:05.078584Z"
    },
    "papermill": {
     "duration": 0.028195,
     "end_time": "2022-07-09T12:28:05.082593",
     "exception": false,
     "start_time": "2022-07-09T12:28:05.054398",
     "status": "completed"
    },
    "tags": []
   },
   "outputs": [
    {
     "data": {
      "application/javascript": [
       "parent.postMessage({\"jupyterEvent\": \"custom.exercise_interaction\", \"data\": {\"outcomeType\": 1, \"valueTowardsCompletion\": 0.3333333333333333, \"interactionType\": 1, \"questionType\": 1, \"questionId\": \"2_TextProcessing\", \"learnToolsVersion\": \"0.3.4\", \"failureMessage\": \"\", \"exceptionClass\": \"\", \"trace\": \"\"}}, \"*\")"
      ],
      "text/plain": [
       "<IPython.core.display.Javascript object>"
      ]
     },
     "metadata": {},
     "output_type": "display_data"
    },
    {
     "data": {
      "text/markdown": [
       "<span style=\"color:#33cc33\">Correct</span>"
      ],
      "text/plain": [
       "Correct"
      ]
     },
     "metadata": {},
     "output_type": "display_data"
    }
   ],
   "source": [
    "# TODO: Your code here\n",
    "professors['Graduated from'] = professors['Graduated from'].str.strip()\n",
    "\n",
    "# Check your answer\n",
    "q2.check()"
   ]
  },
  {
   "cell_type": "code",
   "execution_count": 8,
   "id": "e7a0c50d",
   "metadata": {
    "execution": {
     "iopub.execute_input": "2022-07-09T12:28:05.101327Z",
     "iopub.status.busy": "2022-07-09T12:28:05.100806Z",
     "iopub.status.idle": "2022-07-09T12:28:05.115540Z",
     "shell.execute_reply": "2022-07-09T12:28:05.114598Z"
    },
    "papermill": {
     "duration": 0.027051,
     "end_time": "2022-07-09T12:28:05.117847",
     "exception": false,
     "start_time": "2022-07-09T12:28:05.090796",
     "status": "completed"
    },
    "tags": []
   },
   "outputs": [
    {
     "data": {
      "application/javascript": [
       "parent.postMessage({\"jupyterEvent\": \"custom.exercise_interaction\", \"data\": {\"interactionType\": 2, \"questionType\": 1, \"questionId\": \"2_TextProcessing\", \"learnToolsVersion\": \"0.3.4\", \"valueTowardsCompletion\": 0.0, \"failureMessage\": \"\", \"exceptionClass\": \"\", \"trace\": \"\", \"outcomeType\": 4}}, \"*\")"
      ],
      "text/plain": [
       "<IPython.core.display.Javascript object>"
      ]
     },
     "metadata": {},
     "output_type": "display_data"
    },
    {
     "data": {
      "text/markdown": [
       "<span style=\"color:#3366cc\">Hint:</span> In the tutorial, you did the same operation on a different column."
      ],
      "text/plain": [
       "Hint: In the tutorial, you did the same operation on a different column."
      ]
     },
     "metadata": {},
     "output_type": "display_data"
    },
    {
     "data": {
      "application/javascript": [
       "parent.postMessage({\"jupyterEvent\": \"custom.exercise_interaction\", \"data\": {\"interactionType\": 3, \"questionType\": 1, \"questionId\": \"2_TextProcessing\", \"learnToolsVersion\": \"0.3.4\", \"valueTowardsCompletion\": 0.0, \"failureMessage\": \"\", \"exceptionClass\": \"\", \"trace\": \"\", \"outcomeType\": 4}}, \"*\")"
      ],
      "text/plain": [
       "<IPython.core.display.Javascript object>"
      ]
     },
     "metadata": {},
     "output_type": "display_data"
    },
    {
     "data": {
      "text/markdown": [
       "<span style=\"color:#33cc99\">Solution:</span> \n",
       "```python\n",
       "professors['Graduated from'] = professors['Graduated from'].str.strip()\n",
       "\n",
       "```"
      ],
      "text/plain": [
       "Solution: \n",
       "```python\n",
       "professors['Graduated from'] = professors['Graduated from'].str.strip()\n",
       "\n",
       "```"
      ]
     },
     "metadata": {},
     "output_type": "display_data"
    }
   ],
   "source": [
    "# Lines below will give you a hint or solution code\n",
    "q2.hint()\n",
    "q2.solution()"
   ]
  },
  {
   "cell_type": "markdown",
   "id": "06713f38",
   "metadata": {
    "papermill": {
     "duration": 0.008024,
     "end_time": "2022-07-09T12:28:05.134365",
     "exception": false,
     "start_time": "2022-07-09T12:28:05.126341",
     "status": "completed"
    },
    "tags": []
   },
   "source": [
    "# 3) Continue working with countries\n",
    "\n",
    "In the tutorial, we focused on cleaning up inconsistencies in the \"Country\" column.  Run the code cell below to view the list of unique values that we ended with."
   ]
  },
  {
   "cell_type": "code",
   "execution_count": 9,
   "id": "e02e9292",
   "metadata": {
    "execution": {
     "iopub.execute_input": "2022-07-09T12:28:05.153836Z",
     "iopub.status.busy": "2022-07-09T12:28:05.152758Z",
     "iopub.status.idle": "2022-07-09T12:28:05.162908Z",
     "shell.execute_reply": "2022-07-09T12:28:05.161683Z"
    },
    "papermill": {
     "duration": 0.02261,
     "end_time": "2022-07-09T12:28:05.165358",
     "exception": false,
     "start_time": "2022-07-09T12:28:05.142748",
     "status": "completed"
    },
    "tags": []
   },
   "outputs": [
    {
     "data": {
      "text/plain": [
       "array(['australia', 'austria', 'canada', 'china', 'finland', 'france',\n",
       "       'germany', 'greece', 'hongkong', 'ireland', 'italy', 'japan',\n",
       "       'macau', 'malaysia', 'mauritius', 'netherland', 'new zealand',\n",
       "       'norway', 'pakistan', 'portugal', 'russian federation',\n",
       "       'saudi arabia', 'scotland', 'singapore', 'south korea', 'spain',\n",
       "       'sweden', 'thailand', 'turkey', 'uk', 'urbana', 'usa', 'usofa'],\n",
       "      dtype=object)"
      ]
     },
     "execution_count": 9,
     "metadata": {},
     "output_type": "execute_result"
    }
   ],
   "source": [
    "# get all the unique values in the 'City' column\n",
    "countries = professors['Country'].unique()\n",
    "\n",
    "# sort them alphabetically and then take a closer look\n",
    "countries.sort()\n",
    "countries"
   ]
  },
  {
   "cell_type": "markdown",
   "id": "81ce2b61",
   "metadata": {
    "papermill": {
     "duration": 0.008886,
     "end_time": "2022-07-09T12:28:05.183234",
     "exception": false,
     "start_time": "2022-07-09T12:28:05.174348",
     "status": "completed"
    },
    "tags": []
   },
   "source": [
    "Take another look at the \"Country\" column and see if there's any more data cleaning we need to do.\n",
    "\n",
    "It looks like 'usa' and 'usofa' should be the same country.  Correct the \"Country\" column in the dataframe to replace 'usofa' with 'usa'.\n",
    "\n",
    "**Use the most recent version of the DataFrame (with the whitespaces at the beginning and end of cells removed) from question 2.**"
   ]
  },
  {
   "cell_type": "code",
   "execution_count": 10,
   "id": "8218727f",
   "metadata": {
    "execution": {
     "iopub.execute_input": "2022-07-09T12:28:05.202989Z",
     "iopub.status.busy": "2022-07-09T12:28:05.202529Z",
     "iopub.status.idle": "2022-07-09T12:28:05.211706Z",
     "shell.execute_reply": "2022-07-09T12:28:05.210411Z"
    },
    "papermill": {
     "duration": 0.022398,
     "end_time": "2022-07-09T12:28:05.214455",
     "exception": false,
     "start_time": "2022-07-09T12:28:05.192057",
     "status": "completed"
    },
    "tags": []
   },
   "outputs": [
    {
     "data": {
      "text/plain": [
       "[('usa', 80),\n",
       " ('usofa', 57),\n",
       " ('uk', 50),\n",
       " ('austria', 44),\n",
       " ('australia', 36),\n",
       " ('mauritius', 36),\n",
       " ('macau', 29),\n",
       " ('spain', 29),\n",
       " ('sweden', 25),\n",
       " ('turkey', 25)]"
      ]
     },
     "execution_count": 10,
     "metadata": {},
     "output_type": "execute_result"
    }
   ],
   "source": [
    "matches = fuzzywuzzy.process.extract(\"us\", countries, limit=10, scorer=fuzzywuzzy.fuzz.token_sort_ratio)\n",
    "\n",
    "matches\n"
   ]
  },
  {
   "cell_type": "code",
   "execution_count": 11,
   "id": "70a03945",
   "metadata": {
    "execution": {
     "iopub.execute_input": "2022-07-09T12:28:05.234855Z",
     "iopub.status.busy": "2022-07-09T12:28:05.234413Z",
     "iopub.status.idle": "2022-07-09T12:28:05.243023Z",
     "shell.execute_reply": "2022-07-09T12:28:05.241546Z"
    },
    "papermill": {
     "duration": 0.022179,
     "end_time": "2022-07-09T12:28:05.245364",
     "exception": false,
     "start_time": "2022-07-09T12:28:05.223185",
     "status": "completed"
    },
    "tags": []
   },
   "outputs": [],
   "source": [
    "# TODO: Your code here!\n",
    "def replace_matches_in_column(df, column, string_to_match, min_ratio = 70):\n",
    "    # get a list of unique strings\n",
    "    strings = df[column].unique()\n",
    "    \n",
    "    # get the top 10 closest matches to our input string\n",
    "    matches = fuzzywuzzy.process.extract(string_to_match, strings, \n",
    "                                         limit=10, scorer=fuzzywuzzy.fuzz.token_sort_ratio)\n",
    "\n",
    "    # only get matches with a ratio > 90\n",
    "    close_matches = [matches[0] for matches in matches if matches[1] >= min_ratio]\n",
    "\n",
    "    # get the rows of all the close matches in our dataframe\n",
    "    rows_with_matches = df[column].isin(close_matches)\n",
    "\n",
    "    # replace all rows with close matches with the input matches \n",
    "    df.loc[rows_with_matches, column] = string_to_match\n",
    "    \n",
    "    # let us know the function's done\n",
    "    print(\"All done!\")\n",
    "    \n",
    "# Check your answer\n"
   ]
  },
  {
   "cell_type": "code",
   "execution_count": 12,
   "id": "d7369ecd",
   "metadata": {
    "execution": {
     "iopub.execute_input": "2022-07-09T12:28:05.264857Z",
     "iopub.status.busy": "2022-07-09T12:28:05.264403Z",
     "iopub.status.idle": "2022-07-09T12:28:05.280713Z",
     "shell.execute_reply": "2022-07-09T12:28:05.279449Z"
    },
    "papermill": {
     "duration": 0.029147,
     "end_time": "2022-07-09T12:28:05.283421",
     "exception": false,
     "start_time": "2022-07-09T12:28:05.254274",
     "status": "completed"
    },
    "tags": []
   },
   "outputs": [
    {
     "name": "stdout",
     "output_type": "stream",
     "text": [
      "All done!\n"
     ]
    },
    {
     "data": {
      "application/javascript": [
       "parent.postMessage({\"jupyterEvent\": \"custom.exercise_interaction\", \"data\": {\"outcomeType\": 1, \"valueTowardsCompletion\": 0.3333333333333333, \"interactionType\": 1, \"questionType\": 1, \"questionId\": \"3_WorkingWithCities\", \"learnToolsVersion\": \"0.3.4\", \"failureMessage\": \"\", \"exceptionClass\": \"\", \"trace\": \"\"}}, \"*\")"
      ],
      "text/plain": [
       "<IPython.core.display.Javascript object>"
      ]
     },
     "metadata": {},
     "output_type": "display_data"
    },
    {
     "data": {
      "text/markdown": [
       "<span style=\"color:#33cc33\">Correct</span>"
      ],
      "text/plain": [
       "Correct"
      ]
     },
     "metadata": {},
     "output_type": "display_data"
    }
   ],
   "source": [
    "replace_matches_in_column(df=professors, column='Country', string_to_match=\"usa\")\n",
    "countries = professors['Country'].unique()\n",
    "q3.check()"
   ]
  },
  {
   "cell_type": "code",
   "execution_count": 13,
   "id": "79982950",
   "metadata": {
    "execution": {
     "iopub.execute_input": "2022-07-09T12:28:05.304303Z",
     "iopub.status.busy": "2022-07-09T12:28:05.303812Z",
     "iopub.status.idle": "2022-07-09T12:28:05.315965Z",
     "shell.execute_reply": "2022-07-09T12:28:05.314964Z"
    },
    "papermill": {
     "duration": 0.025296,
     "end_time": "2022-07-09T12:28:05.318133",
     "exception": false,
     "start_time": "2022-07-09T12:28:05.292837",
     "status": "completed"
    },
    "tags": []
   },
   "outputs": [
    {
     "data": {
      "application/javascript": [
       "parent.postMessage({\"jupyterEvent\": \"custom.exercise_interaction\", \"data\": {\"interactionType\": 2, \"questionType\": 1, \"questionId\": \"3_WorkingWithCities\", \"learnToolsVersion\": \"0.3.4\", \"valueTowardsCompletion\": 0.0, \"failureMessage\": \"\", \"exceptionClass\": \"\", \"trace\": \"\", \"outcomeType\": 4}}, \"*\")"
      ],
      "text/plain": [
       "<IPython.core.display.Javascript object>"
      ]
     },
     "metadata": {},
     "output_type": "display_data"
    },
    {
     "data": {
      "text/markdown": [
       "<span style=\"color:#3366cc\">Hint:</span> Use the `replace_matches_in_column()` function defined above."
      ],
      "text/plain": [
       "Hint: Use the `replace_matches_in_column()` function defined above."
      ]
     },
     "metadata": {},
     "output_type": "display_data"
    },
    {
     "data": {
      "application/javascript": [
       "parent.postMessage({\"jupyterEvent\": \"custom.exercise_interaction\", \"data\": {\"interactionType\": 3, \"questionType\": 1, \"questionId\": \"3_WorkingWithCities\", \"learnToolsVersion\": \"0.3.4\", \"valueTowardsCompletion\": 0.0, \"failureMessage\": \"\", \"exceptionClass\": \"\", \"trace\": \"\", \"outcomeType\": 4}}, \"*\")"
      ],
      "text/plain": [
       "<IPython.core.display.Javascript object>"
      ]
     },
     "metadata": {},
     "output_type": "display_data"
    },
    {
     "data": {
      "text/markdown": [
       "<span style=\"color:#33cc99\">Solution:</span> \n",
       "```python\n",
       "matches = fuzzywuzzy.process.extract(\"usa\", countries, limit=10, scorer=fuzzywuzzy.fuzz.token_sort_ratio)\n",
       "replace_matches_in_column(df=professors, column='Country', string_to_match=\"usa\", min_ratio=70)\n",
       "\n",
       "```"
      ],
      "text/plain": [
       "Solution: \n",
       "```python\n",
       "matches = fuzzywuzzy.process.extract(\"usa\", countries, limit=10, scorer=fuzzywuzzy.fuzz.token_sort_ratio)\n",
       "replace_matches_in_column(df=professors, column='Country', string_to_match=\"usa\", min_ratio=70)\n",
       "\n",
       "```"
      ]
     },
     "metadata": {},
     "output_type": "display_data"
    }
   ],
   "source": [
    "# Lines below will give you a hint or solution code\n",
    "q3.hint()\n",
    "q3.solution()"
   ]
  },
  {
   "cell_type": "markdown",
   "id": "36c420fe",
   "metadata": {
    "papermill": {
     "duration": 0.009266,
     "end_time": "2022-07-09T12:28:05.337072",
     "exception": false,
     "start_time": "2022-07-09T12:28:05.327806",
     "status": "completed"
    },
    "tags": []
   },
   "source": [
    "# Congratulations!\n",
    "\n",
    "Congratulations for completing the **Data Cleaning** course on Kaggle Learn!\n",
    "\n",
    "To practice your new skills, you're encouraged to download and investigate some of [Kaggle's Datasets](https://www.kaggle.com/datasets)."
   ]
  },
  {
   "cell_type": "markdown",
   "id": "8c9f8f45",
   "metadata": {
    "papermill": {
     "duration": 0.009969,
     "end_time": "2022-07-09T12:28:05.356645",
     "exception": false,
     "start_time": "2022-07-09T12:28:05.346676",
     "status": "completed"
    },
    "tags": []
   },
   "source": [
    "---\n",
    "\n",
    "\n",
    "\n",
    "\n",
    "*Have questions or comments? Visit the [course discussion forum](https://www.kaggle.com/learn/data-cleaning/discussion) to chat with other learners.*"
   ]
  },
  {
   "cell_type": "code",
   "execution_count": null,
   "id": "10b5bd18",
   "metadata": {
    "papermill": {
     "duration": 0.009453,
     "end_time": "2022-07-09T12:28:05.376498",
     "exception": false,
     "start_time": "2022-07-09T12:28:05.367045",
     "status": "completed"
    },
    "tags": []
   },
   "outputs": [],
   "source": []
  },
  {
   "cell_type": "code",
   "execution_count": null,
   "id": "14f8c70c",
   "metadata": {
    "papermill": {
     "duration": 0.009864,
     "end_time": "2022-07-09T12:28:05.396324",
     "exception": false,
     "start_time": "2022-07-09T12:28:05.386460",
     "status": "completed"
    },
    "tags": []
   },
   "outputs": [],
   "source": []
  }
 ],
 "metadata": {
  "kernelspec": {
   "display_name": "Python 3",
   "language": "python",
   "name": "python3"
  },
  "language_info": {
   "codemirror_mode": {
    "name": "ipython",
    "version": 3
   },
   "file_extension": ".py",
   "mimetype": "text/x-python",
   "name": "python",
   "nbconvert_exporter": "python",
   "pygments_lexer": "ipython3",
   "version": "3.7.12"
  },
  "papermill": {
   "default_parameters": {},
   "duration": 13.52877,
   "end_time": "2022-07-09T12:28:06.330828",
   "environment_variables": {},
   "exception": null,
   "input_path": "__notebook__.ipynb",
   "output_path": "__notebook__.ipynb",
   "parameters": {},
   "start_time": "2022-07-09T12:27:52.802058",
   "version": "2.3.4"
  }
 },
 "nbformat": 4,
 "nbformat_minor": 5
}
